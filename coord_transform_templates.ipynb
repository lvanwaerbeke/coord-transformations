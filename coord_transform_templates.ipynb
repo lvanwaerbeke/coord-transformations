{
 "cells": [
  {
   "cell_type": "markdown",
   "metadata": {},
   "source": [
    "### <h1><center style=\"font-size: 48px\">Coordinate transformations</center></h1>\n",
    "<br><br>\n",
    "\n",
    "Some reference points for checks:\n",
    "\n",
    "$\\bf 1- ~Galactic ~North ~pole ~(+90° ~latitude)$ \t12h 51.4m \t+27.13° \tComa Berenices\n",
    "(near 31 Com)\n",
    "\n",
    "Input: Galactic \n",
    "RA or Longitude   DEC or Latitude   PA(East of North)\n",
    "0.00000000      90.00000000       0.000000     \n",
    "\n",
    "$\\bf Output: ~Equatorial ~J2000.0$\n",
    "\n",
    "192.85948402      27.12829637       302.931981   \n",
    "12h51m26.27616s   +27d07m41.8669s\n",
    "\n",
    "\n",
    "$\\bf 2- ~Galactic ~South ~pole ~(−90° ~latitude)$ \t0h 51.4m \t−27.13° \tSculptor\n",
    "(near NGC 288)\n",
    "\n",
    "Input: Galactic \n",
    "RA or Longitude   DEC or Latitude   PA(East of North)\n",
    "0.00000000        -90.00000000      0.000000     \n",
    "\n",
    "$\\bf Output: ~Equatorial ~J2000.0$\n",
    "\n",
    "12.85946451       -27.12820428      237.068156   \n",
    "00h51m26.27148s   -27d07m41.5354s\n",
    "\n",
    "$\\bf 3- ~Galactic~ center~ (0° ~longitude)$ \t17h 45.6m \t−28.94° \tSagittarius\n",
    "(Galactic Center)\n",
    "\n",
    "Input: Galactic \n",
    "RA or Longitude   DEC or Latitude   PA(East of North)\n",
    "0.00000000        0.00000000        0.000000     \n",
    "\n",
    "$\\bf Output: ~Equatorial~ J2000.0$\n",
    "\n",
    "266.40508920      -28.93617470      301.401202   \n",
    "17h45m37.22141s   -28d56m10.2289s\n",
    "\n",
    "$\\bf 4- ~Anti-center ~(180° ~longitude)$ \t5h 45.6m \t+28.94° \tAuriga\n",
    "(near HIP 27088)\n",
    "\n",
    "Input: Galactic \n",
    "RA or Longitude   DEC or Latitude   PA(East of North)\n",
    "180.00000000      0.00000000        0.000000     \n",
    "\n",
    "$\\bf Output:~ Equatorial ~J2000.0$\n",
    "\n",
    "86.40489195       28.93616388       58.598539    \n",
    "05h45m37.17407s   +28d56m10.1900s\n",
    "\n",
    "Coordinate transformation page:\n",
    "http://www.atnf.csiro.au/people/Tobias.Westmeier/tools_coords.php\n",
    "\n",
    "online calculation tool: https://ned.ipac.caltech.edu/forms/calculator.html"
   ]
  },
  {
   "cell_type": "code",
   "execution_count": 2,
   "metadata": {
    "collapsed": true
   },
   "outputs": [],
   "source": [
    "import healpy as hp\n",
    "import numpy as np"
   ]
  },
  {
   "cell_type": "markdown",
   "metadata": {},
   "source": [
    "healpy Rotator take co-Lat (=$\\pi/2$-Lat) and Lon as input, in radian by default. It returns co-Dec and RA in degrees by default."
   ]
  },
  {
   "cell_type": "markdown",
   "metadata": {},
   "source": [
    "### <h1><center style=\"font-size: 24px\">Using Healpy</center></h1>"
   ]
  },
  {
   "cell_type": "code",
   "execution_count": 12,
   "metadata": {
    "collapsed": true
   },
   "outputs": [],
   "source": [
    "r = hp.rotator.Rotator(coord=['G','C'])"
   ]
  },
  {
   "cell_type": "markdown",
   "metadata": {},
   "source": [
    "### North galactic pole"
   ]
  },
  {
   "cell_type": "code",
   "execution_count": 13,
   "metadata": {
    "collapsed": false
   },
   "outputs": [
    {
     "data": {
      "text/plain": [
       "(array([  27.12884513, -167.14056927]),\n",
       " 1.0973086569494477,\n",
       " -2.9171532473400954)"
      ]
     },
     "execution_count": 13,
     "metadata": {},
     "output_type": "execute_result"
    }
   ],
   "source": [
    "theta_gal, phi_gal = 0., 0.\n",
    "theta_cel, phi_cel = r(theta_gal, phi_gal)\n",
    "np.rad2deg((np.pi/2-theta_cel, phi_cel)),theta_cel, phi_cel"
   ]
  },
  {
   "cell_type": "code",
   "execution_count": 9,
   "metadata": {
    "collapsed": false
   },
   "outputs": [
    {
     "data": {
      "text/plain": [
       "array([[ 0.98205587,  0.15923708,  0.74049514,  1.42621127,  0.91354846,\n",
       "         1.22213644,  1.98189695,  1.90409671,  1.94868434],\n",
       "       [-1.74468   , -2.03865616,  2.14139433, -0.76743698,  0.05705187,\n",
       "         1.04231409,  0.08373873,  0.20277531,  0.33920273]])"
      ]
     },
     "execution_count": 9,
     "metadata": {},
     "output_type": "execute_result"
    }
   ],
   "source": [
    "nx,ny=3,3\n",
    "x = np.linspace(1,nx, nx)\n",
    "y = np.linspace(1,ny, ny)\n",
    "xx, yy = np.meshgrid(x, y)\n",
    "r(yy.flatten(),xx.flatten())"
   ]
  },
  {
   "cell_type": "markdown",
   "metadata": {},
   "source": [
    "### South galactic pole"
   ]
  },
  {
   "cell_type": "code",
   "execution_count": 18,
   "metadata": {
    "collapsed": false,
    "scrolled": true
   },
   "outputs": [
    {
     "data": {
      "text/plain": [
       "array([-27.12884513,  12.85943073])"
      ]
     },
     "execution_count": 18,
     "metadata": {},
     "output_type": "execute_result"
    }
   ],
   "source": [
    "theta_gal, phi_gal = np.pi, 0.\n",
    "theta_cel, phi_cel = r(theta_gal, phi_gal)\n",
    "np.rad2deg((np.pi/2-theta_cel, phi_cel))"
   ]
  },
  {
   "cell_type": "markdown",
   "metadata": {},
   "source": [
    "### <h1><center style=\"font-size: 24px\">Using Astropy</center></h1>"
   ]
  },
  {
   "cell_type": "code",
   "execution_count": 3,
   "metadata": {
    "collapsed": false
   },
   "outputs": [],
   "source": [
    "from astropy import units as u\n",
    "from astropy.coordinates import SkyCoord"
   ]
  },
  {
   "cell_type": "markdown",
   "metadata": {},
   "source": [
    "### North galactic pole"
   ]
  },
  {
   "cell_type": "code",
   "execution_count": 9,
   "metadata": {
    "collapsed": false
   },
   "outputs": [
    {
     "data": {
      "text/plain": [
       "<SkyCoord (Galactic): (l, b) in deg\n",
       "    (119.76037855, 89.99995474)>"
      ]
     },
     "execution_count": 9,
     "metadata": {},
     "output_type": "execute_result"
    }
   ],
   "source": [
    "c = SkyCoord(ra=192.85948402*u.degree, dec=27.12829637*u.degree, frame='fk5')\n",
    "c.galactic"
   ]
  },
  {
   "cell_type": "code",
   "execution_count": 12,
   "metadata": {
    "collapsed": false
   },
   "outputs": [
    {
     "data": {
      "text/plain": [
       "<SkyCoord (FK5: equinox=J2000.000): (ra, dec) in deg\n",
       "    (192.85948121, 27.12825118)>"
      ]
     },
     "execution_count": 12,
     "metadata": {},
     "output_type": "execute_result"
    }
   ],
   "source": [
    "g = SkyCoord(l=00*u.degree, b=90*u.degree, frame='galactic')\n",
    "g.fk5"
   ]
  },
  {
   "cell_type": "code",
   "execution_count": 34,
   "metadata": {
    "collapsed": false
   },
   "outputs": [],
   "source": [
    "#help(c)"
   ]
  },
  {
   "cell_type": "markdown",
   "metadata": {},
   "source": [
    "### General transformation healpy versus astropy: self consistency relation"
   ]
  },
  {
   "cell_type": "code",
   "execution_count": 12,
   "metadata": {
    "collapsed": false
   },
   "outputs": [
    {
     "data": {
      "text/plain": [
       "(119.26935674424578,\n",
       " -42.79039390791354,\n",
       " 119.26960565026057,\n",
       " -42.78980404570575)"
      ]
     },
     "execution_count": 12,
     "metadata": {},
     "output_type": "execute_result"
    }
   ],
   "source": [
    "r = hp.rotator.Rotator(coord=['c','g'])\n",
    "totoa,totob=10.,20.\n",
    "cc=SkyCoord(ra=totoa*u.degree, dec=totob*u.degree, frame='fk5')\n",
    "lon1,lat1=cc.galactic.l.degree,cc.galactic.b.degree\n",
    "facta,factb=np.array([totoa,totob])*np.pi/180.\n",
    "colat2,lon2=r(np.pi/2.-factb,facta)*180./np.pi\n",
    "lon1,lat1,lon2,90.-colat2"
   ]
  },
  {
   "cell_type": "markdown",
   "metadata": {
    "collapsed": true
   },
   "source": [
    "### Reverse from galactic (colat,lon) to (ra,dec)"
   ]
  },
  {
   "cell_type": "code",
   "execution_count": 26,
   "metadata": {
    "collapsed": false
   },
   "outputs": [],
   "source": [
    "rinv = hp.rotator.Rotator(coord=['g','c'])"
   ]
  },
  {
   "cell_type": "code",
   "execution_count": 27,
   "metadata": {
    "collapsed": false
   },
   "outputs": [
    {
     "data": {
      "text/plain": [
       "(10.000000000000007, 20.000000000000014)"
      ]
     },
     "execution_count": 27,
     "metadata": {},
     "output_type": "execute_result"
    }
   ],
   "source": [
    "codecinv,rainv=rinv((colat2)*np.pi/180.,lon2*np.pi/180.)*180./np.pi\n",
    "rainv,90.-codecinv"
   ]
  },
  {
   "cell_type": "code",
   "execution_count": null,
   "metadata": {
    "collapsed": true
   },
   "outputs": [],
   "source": []
  }
 ],
 "metadata": {
  "kernelspec": {
   "display_name": "Python 3",
   "language": "python",
   "name": "python3"
  },
  "language_info": {
   "codemirror_mode": {
    "name": "ipython",
    "version": 3
   },
   "file_extension": ".py",
   "mimetype": "text/x-python",
   "name": "python",
   "nbconvert_exporter": "python",
   "pygments_lexer": "ipython3",
   "version": "3.5.2"
  }
 },
 "nbformat": 4,
 "nbformat_minor": 0
}
